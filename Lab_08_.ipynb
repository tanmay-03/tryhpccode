{
  "nbformat": 4,
  "nbformat_minor": 0,
  "metadata": {
    "colab": {
      "provenance": []
    },
    "kernelspec": {
      "name": "python3",
      "display_name": "Python 3"
    },
    "language_info": {
      "name": "python"
    }
  },
  "cells": [
    {
      "cell_type": "code",
      "source": [
        "pip install hmmlearn scikit-learn"
      ],
      "metadata": {
        "colab": {
          "base_uri": "https://localhost:8080/"
        },
        "id": "s8pJlP7cSz8J",
        "outputId": "16484c7d-aa7e-4f27-f40a-7df8410bb33a"
      },
      "execution_count": 2,
      "outputs": [
        {
          "output_type": "stream",
          "name": "stdout",
          "text": [
            "Collecting hmmlearn\n",
            "  Downloading hmmlearn-0.3.2-cp310-cp310-manylinux_2_17_x86_64.manylinux2014_x86_64.whl (161 kB)\n",
            "\u001b[2K     \u001b[90m━━━━━━━━━━━━━━━━━━━━━━━━━━━━━━━━━━━━━━━━\u001b[0m \u001b[32m161.1/161.1 kB\u001b[0m \u001b[31m3.4 MB/s\u001b[0m eta \u001b[36m0:00:00\u001b[0m\n",
            "\u001b[?25hRequirement already satisfied: scikit-learn in /usr/local/lib/python3.10/dist-packages (1.2.2)\n",
            "Requirement already satisfied: numpy>=1.10 in /usr/local/lib/python3.10/dist-packages (from hmmlearn) (1.25.2)\n",
            "Requirement already satisfied: scipy>=0.19 in /usr/local/lib/python3.10/dist-packages (from hmmlearn) (1.11.4)\n",
            "Requirement already satisfied: joblib>=1.1.1 in /usr/local/lib/python3.10/dist-packages (from scikit-learn) (1.3.2)\n",
            "Requirement already satisfied: threadpoolctl>=2.0.0 in /usr/local/lib/python3.10/dist-packages (from scikit-learn) (3.4.0)\n",
            "Installing collected packages: hmmlearn\n",
            "Successfully installed hmmlearn-0.3.2\n"
          ]
        }
      ]
    },
    {
      "cell_type": "code",
      "execution_count": 4,
      "metadata": {
        "colab": {
          "base_uri": "https://localhost:8080/"
        },
        "id": "bIGIU38cSmY0",
        "outputId": "a8170b37-9fb0-4988-ae7e-3588a97b062e"
      },
      "outputs": [
        {
          "output_type": "stream",
          "name": "stderr",
          "text": [
            "WARNING:hmmlearn.hmm:MultinomialHMM has undergone major changes. The previous version was implementing a CategoricalHMM (a special case of MultinomialHMM). This new implementation follows the standard definition for a Multinomial distribution (e.g. as in https://en.wikipedia.org/wiki/Multinomial_distribution). See these issues for details:\n",
            "https://github.com/hmmlearn/hmmlearn/issues/335\n",
            "https://github.com/hmmlearn/hmmlearn/issues/340\n"
          ]
        },
        {
          "output_type": "stream",
          "name": "stdout",
          "text": [
            "Log Likelihood (Train): 1.2416956352012676e-11\n",
            "Log Likelihood (Test): 3.1019631308026874e-12\n"
          ]
        }
      ],
      "source": [
        "import numpy as np\n",
        "from hmmlearn import hmm\n",
        "from sklearn.preprocessing import LabelEncoder\n",
        "\n",
        "# Load the dataset (Alice in Wonderland text)\n",
        "with open(\"/content/alice_in_wonderland.txt\", \"r\") as file:\n",
        "    text = file.read()\n",
        "\n",
        "# Preprocessing: Encode characters\n",
        "char_encoder = LabelEncoder()\n",
        "encoded_text = char_encoder.fit_transform(list(text)).reshape(-1, 1)\n",
        "\n",
        "# Split data into training and testing sets\n",
        "train_size = int(0.8 * len(encoded_text))\n",
        "X_train = encoded_text[:train_size]\n",
        "X_test = encoded_text[train_size:]\n",
        "\n",
        "# Initialize and train the HMM model\n",
        "model = hmm.MultinomialHMM(n_components=10, n_iter=100)\n",
        "model.fit(X_train)\n",
        "\n",
        "# Evaluation\n",
        "log_likelihood_train = model.score(X_train)\n",
        "log_likelihood_test = model.score(X_test)\n",
        "\n",
        "print(\"Log Likelihood (Train):\", log_likelihood_train)\n",
        "print(\"Log Likelihood (Test):\", log_likelihood_test)\n"
      ]
    },
    {
      "cell_type": "code",
      "source": [],
      "metadata": {
        "id": "F7vjyAd6ftB2"
      },
      "execution_count": null,
      "outputs": []
    },
    {
      "cell_type": "markdown",
      "source": [
        "#code using Historical stock data"
      ],
      "metadata": {
        "id": "R3nXysnLfwtg"
      }
    },
    {
      "cell_type": "code",
      "source": [
        "import numpy as np\n",
        "from hmmlearn import hmm\n",
        "import yfinance as yf\n",
        "\n",
        "# Fetch historical stock data for Apple Inc. (AAPL)\n",
        "stock_data = yf.download('AAPL', start='2020-01-01', end='2022-01-01')\n",
        "\n",
        "# Calculate daily price changes\n",
        "stock_data['Price_Change'] = stock_data['Close'].pct_change().fillna(0)\n",
        "\n",
        "# Define states: 'Increase', 'Decrease', 'No Change'\n",
        "states = ['Increase', 'Decrease', 'No Change']\n",
        "\n",
        "# Encode price changes into states\n",
        "def encode_states(price_change):\n",
        "    if price_change > 0:\n",
        "        return 0  # Increase\n",
        "    elif price_change < 0:\n",
        "        return 1  # Decrease\n",
        "    else:\n",
        "        return 2  # No Change\n",
        "\n",
        "stock_data['State'] = stock_data['Price_Change'].apply(encode_states)\n",
        "\n",
        "# Prepare training data\n",
        "X_train = stock_data['State'].values.reshape(-1, 1)\n",
        "\n",
        "# Initialize and train HMM model\n",
        "model = hmm.MultinomialHMM(n_components=3, n_iter=100)\n",
        "model.fit(X_train)\n",
        "\n",
        "# Predict next day's state\n",
        "predicted_state = model.predict(X_train[-1].reshape(1, -1))\n",
        "predicted_movement = states[predicted_state[0]]\n",
        "\n",
        "print(\"Predicted Movement for Next Trading Day:\", predicted_movement)\n"
      ],
      "metadata": {
        "colab": {
          "base_uri": "https://localhost:8080/"
        },
        "id": "wI-0mC08e4JX",
        "outputId": "28b59117-365f-49df-8c99-7773d66c3c36"
      },
      "execution_count": 5,
      "outputs": [
        {
          "output_type": "stream",
          "name": "stderr",
          "text": [
            "\r[*********************100%%**********************]  1 of 1 completed\n",
            "WARNING:hmmlearn.hmm:MultinomialHMM has undergone major changes. The previous version was implementing a CategoricalHMM (a special case of MultinomialHMM). This new implementation follows the standard definition for a Multinomial distribution (e.g. as in https://en.wikipedia.org/wiki/Multinomial_distribution). See these issues for details:\n",
            "https://github.com/hmmlearn/hmmlearn/issues/335\n",
            "https://github.com/hmmlearn/hmmlearn/issues/340\n"
          ]
        },
        {
          "output_type": "stream",
          "name": "stdout",
          "text": [
            "Predicted Movement for Next Trading Day: Increase\n"
          ]
        }
      ]
    }
  ]
}